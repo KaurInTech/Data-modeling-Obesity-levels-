{
 "cells": [
  {
   "cell_type": "markdown",
   "id": "e64151a7",
   "metadata": {},
   "source": [
    "# Assignment 2 - Hands on Training Data Influence\n",
    "## Sandeep Kaur (301459836) ,  Jashandeep Kaur  ,   Kamal Kaur"
   ]
  },
  {
   "cell_type": "markdown",
   "id": "fa8999fd",
   "metadata": {},
   "source": [
    "## Part 1:\n",
    "### Dataset Description: \n",
    "This dataset include data for the estimation of obesity levels in individuals from the countries of Mexico,\n",
    "Peru and Colombia, based on their eating habits and physical condition."
   ]
  },
  {
   "cell_type": "code",
   "execution_count": 1,
   "id": "c6352c35",
   "metadata": {},
   "outputs": [],
   "source": [
    "from ucimlrepo import fetch_ucirepo \n",
    "  \n",
    "# fetch dataset \n",
    "estimation_of_obesity_levels_based_on_eating_habits_and_physical_condition = fetch_ucirepo(id=544) "
   ]
  },
  {
   "cell_type": "markdown",
   "id": "bfdd7d8e",
   "metadata": {},
   "source": [
    "### Features and Labels:\n",
    "The data contains 17 attributes and 2111 records, the records are labeled with the class variable NObesity (Obesity Level), that allows classification of the data using the values of Insufficient Weight, Normal Weight, Overweight Level I, Overweight Level II, Obesity Type I, Obesity Type II and Obesity Type III. 77% of the data was generated synthetically using the Weka tool and the SMOTE filter, 23% of the data was collected directly from users through a web platform."
   ]
  },
  {
   "cell_type": "code",
   "execution_count": 2,
   "id": "98fd0f3a",
   "metadata": {},
   "outputs": [],
   "source": [
    "# data (as pandas dataframes) \n",
    "#features\n",
    "X = estimation_of_obesity_levels_based_on_eating_habits_and_physical_condition.data.features \n",
    "\n",
    "#labels\n",
    "y = estimation_of_obesity_levels_based_on_eating_habits_and_physical_condition.data.targets\n",
    "\n",
    "# metadata \n",
    "#print(estimation_of_obesity_levels_based_on_eating_habits_and_physical_condition.metadata) \n",
    "  \n",
    "# variable information \n",
    "#print(estimation_of_obesity_levels_based_on_eating_habits_and_physical_condition.variables) \n"
   ]
  },
  {
   "cell_type": "code",
   "execution_count": 3,
   "id": "ecda8f84",
   "metadata": {},
   "outputs": [
    {
     "name": "stdout",
     "output_type": "stream",
     "text": [
      "Labels in string from:\n",
      "            NObeyesdad\n",
      "0        Normal_Weight\n",
      "1        Normal_Weight\n",
      "2        Normal_Weight\n",
      "3   Overweight_Level_I\n",
      "4  Overweight_Level_II\n",
      "\n",
      "\n",
      "Labels in numeric form:\n",
      "[1 1 1 ... 4 4 4]\n",
      "\n",
      "\n",
      "Features in string form\n",
      "   Gender   Age  Height  Weight family_history_with_overweight FAVC  FCVC  \\\n",
      "0  Female  21.0    1.62    64.0                            yes   no   2.0   \n",
      "1  Female  21.0    1.52    56.0                            yes   no   3.0   \n",
      "2    Male  23.0    1.80    77.0                            yes   no   2.0   \n",
      "3    Male  27.0    1.80    87.0                             no   no   3.0   \n",
      "4    Male  22.0    1.78    89.8                             no   no   2.0   \n",
      "\n",
      "   NCP       CAEC SMOKE  CH2O  SCC  FAF  TUE        CALC  \\\n",
      "0  3.0  Sometimes    no   2.0   no  0.0  1.0          no   \n",
      "1  3.0  Sometimes   yes   3.0  yes  3.0  0.0   Sometimes   \n",
      "2  3.0  Sometimes    no   2.0   no  2.0  1.0  Frequently   \n",
      "3  3.0  Sometimes    no   2.0   no  2.0  0.0  Frequently   \n",
      "4  1.0  Sometimes    no   2.0   no  0.0  0.0   Sometimes   \n",
      "\n",
      "                  MTRANS  \n",
      "0  Public_Transportation  \n",
      "1  Public_Transportation  \n",
      "2  Public_Transportation  \n",
      "3                Walking  \n",
      "4  Public_Transportation  \n",
      "\n",
      "\n",
      "Features in numeric form\n",
      "  Gender   Age  Height  Weight family_history_with_overweight FAVC  FCVC  NCP  \\\n",
      "0      0  21.0    1.62    64.0                              1    0   2.0  3.0   \n",
      "1      0  21.0    1.52    56.0                              1    0   3.0  3.0   \n",
      "2      1  23.0    1.80    77.0                              1    0   2.0  3.0   \n",
      "3      1  27.0    1.80    87.0                              0    0   3.0  3.0   \n",
      "4      1  22.0    1.78    89.8                              0    0   2.0  1.0   \n",
      "\n",
      "  CAEC SMOKE  CH2O SCC  FAF  TUE CALC MTRANS  \n",
      "0    2     0   2.0   0  0.0  1.0    3      3  \n",
      "1    2     1   3.0   1  3.0  0.0    2      3  \n",
      "2    2     0   2.0   0  2.0  1.0    1      3  \n",
      "3    2     0   2.0   0  2.0  0.0    1      4  \n",
      "4    2     0   2.0   0  0.0  0.0    2      3  \n"
     ]
    }
   ],
   "source": [
    "#conversion of y label and X features that are string into numeric array\n",
    "import numpy as np\n",
    "from sklearn.preprocessing import LabelEncoder\n",
    "import pandas as pd\n",
    "\n",
    "# Creating a instance of label Encoder.\n",
    "label_encoder = LabelEncoder()\n",
    "\n",
    "print(\"Labels in string from:\")\n",
    "print(y.head())\n",
    "print(\"\\n\")\n",
    "\n",
    "# Using .fit_transform function to fit label\n",
    "# encoder and return encoded label\n",
    "y_encoder = label_encoder.fit_transform(np.array(y).ravel())\n",
    "\n",
    "print(\"Labels in numeric form:\")\n",
    "print(y_encoder)\n",
    "print(\"\\n\")\n",
    "\n",
    "print(\"Features in string form\")\n",
    "print(X.head())\n",
    "print(\"\\n\")\n",
    "\n",
    "string_features =['Gender','family_history_with_overweight','FAVC','CAEC','SMOKE','SCC','CALC','MTRANS']\n",
    "\n",
    "for feature in string_features:\n",
    "    # Apply LabelEncoder to each string column\n",
    "    X.loc[:,feature] = label_encoder.fit_transform(X[feature])\n",
    "\n",
    "print(\"Features in numeric form\")\n",
    "print(X.head())"
   ]
  },
  {
   "cell_type": "markdown",
   "id": "80ed01e0",
   "metadata": {},
   "source": [
    "### Splitting into train and test sets :\n",
    "In a random 80/20 split:\n",
    "\n",
    "Approximately 80% of the data is used for training, and 20% is reserved for testing.\n",
    "The split is performed randomly, ensuring that each subset is representative of the overall dataset"
   ]
  },
  {
   "cell_type": "code",
   "execution_count": 4,
   "id": "31f6dad5",
   "metadata": {},
   "outputs": [],
   "source": [
    "from sklearn.model_selection import train_test_split\n",
    "from sklearn.preprocessing import StandardScaler\n",
    "\n",
    "# Feature Scaling\n",
    "scaler = StandardScaler()\n",
    "X_scaled = scaler.fit_transform(X)\n",
    "\n",
    "X_train, X_test, y_train, y_test = train_test_split(\n",
    "    X_scaled, y_encoder, test_size=0.3, random_state=42)\n"
   ]
  },
  {
   "cell_type": "markdown",
   "id": "cd43c5ab",
   "metadata": {},
   "source": [
    "### Training Classifier"
   ]
  },
  {
   "cell_type": "code",
   "execution_count": 5,
   "id": "e7afb08c",
   "metadata": {},
   "outputs": [
    {
     "data": {
      "text/html": [
       "<style>#sk-container-id-1 {color: black;}#sk-container-id-1 pre{padding: 0;}#sk-container-id-1 div.sk-toggleable {background-color: white;}#sk-container-id-1 label.sk-toggleable__label {cursor: pointer;display: block;width: 100%;margin-bottom: 0;padding: 0.3em;box-sizing: border-box;text-align: center;}#sk-container-id-1 label.sk-toggleable__label-arrow:before {content: \"▸\";float: left;margin-right: 0.25em;color: #696969;}#sk-container-id-1 label.sk-toggleable__label-arrow:hover:before {color: black;}#sk-container-id-1 div.sk-estimator:hover label.sk-toggleable__label-arrow:before {color: black;}#sk-container-id-1 div.sk-toggleable__content {max-height: 0;max-width: 0;overflow: hidden;text-align: left;background-color: #f0f8ff;}#sk-container-id-1 div.sk-toggleable__content pre {margin: 0.2em;color: black;border-radius: 0.25em;background-color: #f0f8ff;}#sk-container-id-1 input.sk-toggleable__control:checked~div.sk-toggleable__content {max-height: 200px;max-width: 100%;overflow: auto;}#sk-container-id-1 input.sk-toggleable__control:checked~label.sk-toggleable__label-arrow:before {content: \"▾\";}#sk-container-id-1 div.sk-estimator input.sk-toggleable__control:checked~label.sk-toggleable__label {background-color: #d4ebff;}#sk-container-id-1 div.sk-label input.sk-toggleable__control:checked~label.sk-toggleable__label {background-color: #d4ebff;}#sk-container-id-1 input.sk-hidden--visually {border: 0;clip: rect(1px 1px 1px 1px);clip: rect(1px, 1px, 1px, 1px);height: 1px;margin: -1px;overflow: hidden;padding: 0;position: absolute;width: 1px;}#sk-container-id-1 div.sk-estimator {font-family: monospace;background-color: #f0f8ff;border: 1px dotted black;border-radius: 0.25em;box-sizing: border-box;margin-bottom: 0.5em;}#sk-container-id-1 div.sk-estimator:hover {background-color: #d4ebff;}#sk-container-id-1 div.sk-parallel-item::after {content: \"\";width: 100%;border-bottom: 1px solid gray;flex-grow: 1;}#sk-container-id-1 div.sk-label:hover label.sk-toggleable__label {background-color: #d4ebff;}#sk-container-id-1 div.sk-serial::before {content: \"\";position: absolute;border-left: 1px solid gray;box-sizing: border-box;top: 0;bottom: 0;left: 50%;z-index: 0;}#sk-container-id-1 div.sk-serial {display: flex;flex-direction: column;align-items: center;background-color: white;padding-right: 0.2em;padding-left: 0.2em;position: relative;}#sk-container-id-1 div.sk-item {position: relative;z-index: 1;}#sk-container-id-1 div.sk-parallel {display: flex;align-items: stretch;justify-content: center;background-color: white;position: relative;}#sk-container-id-1 div.sk-item::before, #sk-container-id-1 div.sk-parallel-item::before {content: \"\";position: absolute;border-left: 1px solid gray;box-sizing: border-box;top: 0;bottom: 0;left: 50%;z-index: -1;}#sk-container-id-1 div.sk-parallel-item {display: flex;flex-direction: column;z-index: 1;position: relative;background-color: white;}#sk-container-id-1 div.sk-parallel-item:first-child::after {align-self: flex-end;width: 50%;}#sk-container-id-1 div.sk-parallel-item:last-child::after {align-self: flex-start;width: 50%;}#sk-container-id-1 div.sk-parallel-item:only-child::after {width: 0;}#sk-container-id-1 div.sk-dashed-wrapped {border: 1px dashed gray;margin: 0 0.4em 0.5em 0.4em;box-sizing: border-box;padding-bottom: 0.4em;background-color: white;}#sk-container-id-1 div.sk-label label {font-family: monospace;font-weight: bold;display: inline-block;line-height: 1.2em;}#sk-container-id-1 div.sk-label-container {text-align: center;}#sk-container-id-1 div.sk-container {/* jupyter's `normalize.less` sets `[hidden] { display: none; }` but bootstrap.min.css set `[hidden] { display: none !important; }` so we also need the `!important` here to be able to override the default hidden behavior on the sphinx rendered scikit-learn.org. See: https://github.com/scikit-learn/scikit-learn/issues/21755 */display: inline-block !important;position: relative;}#sk-container-id-1 div.sk-text-repr-fallback {display: none;}</style><div id=\"sk-container-id-1\" class=\"sk-top-container\"><div class=\"sk-text-repr-fallback\"><pre>LogisticRegression(max_iter=1000)</pre><b>In a Jupyter environment, please rerun this cell to show the HTML representation or trust the notebook. <br />On GitHub, the HTML representation is unable to render, please try loading this page with nbviewer.org.</b></div><div class=\"sk-container\" hidden><div class=\"sk-item\"><div class=\"sk-estimator sk-toggleable\"><input class=\"sk-toggleable__control sk-hidden--visually\" id=\"sk-estimator-id-1\" type=\"checkbox\" checked><label for=\"sk-estimator-id-1\" class=\"sk-toggleable__label sk-toggleable__label-arrow\">LogisticRegression</label><div class=\"sk-toggleable__content\"><pre>LogisticRegression(max_iter=1000)</pre></div></div></div></div></div>"
      ],
      "text/plain": [
       "LogisticRegression(max_iter=1000)"
      ]
     },
     "execution_count": 5,
     "metadata": {},
     "output_type": "execute_result"
    }
   ],
   "source": [
    "from sklearn.linear_model import LogisticRegression\n",
    "\n",
    "# Train a Logistic Regression model\n",
    "model = LogisticRegression(max_iter=1000)\n",
    "model.fit(X_train, y_train)"
   ]
  },
  {
   "cell_type": "markdown",
   "id": "5ec24bcd",
   "metadata": {},
   "source": [
    "### Performance of baseline classifier:"
   ]
  },
  {
   "cell_type": "code",
   "execution_count": 6,
   "id": "9b749590",
   "metadata": {},
   "outputs": [
    {
     "name": "stdout",
     "output_type": "stream",
     "text": [
      "Accuracy: 0.8596214511041009\n",
      "Confusion Matrix:\n",
      "[[85  1  0  0  0  0  0]\n",
      " [20 56  0  0  0 12  5]\n",
      " [ 0  0 92  8  0  0  2]\n",
      " [ 0  0  2 86  0  0  0]\n",
      " [ 0  0  0  1 97  0  0]\n",
      " [ 0  8  0  0  0 64 16]\n",
      " [ 0  0  4  0  0 10 65]]\n"
     ]
    }
   ],
   "source": [
    "from sklearn.metrics import accuracy_score, confusion_matrix, precision_score,recall_score, f1_score,roc_curve, auc, precision_recall_curve, auc\n",
    "\n",
    "# Predictions\n",
    "y_pred = model.predict(X_test)\n",
    "\n",
    "# Accuracy\n",
    "accuracy = accuracy_score(y_test, y_pred)\n",
    "print(f\"Accuracy: {accuracy}\")\n",
    "\n",
    "# Confusion Matrix\n",
    "conf_matrix = confusion_matrix(y_test, y_pred)\n",
    "print(f\"Confusion Matrix:\\n{conf_matrix}\")\n"
   ]
  },
  {
   "cell_type": "code",
   "execution_count": null,
   "id": "f2f50d23",
   "metadata": {},
   "outputs": [],
   "source": []
  }
 ],
 "metadata": {
  "kernelspec": {
   "display_name": "Python 3 (ipykernel)",
   "language": "python",
   "name": "python3"
  },
  "language_info": {
   "codemirror_mode": {
    "name": "ipython",
    "version": 3
   },
   "file_extension": ".py",
   "mimetype": "text/x-python",
   "name": "python",
   "nbconvert_exporter": "python",
   "pygments_lexer": "ipython3",
   "version": "3.11.5"
  }
 },
 "nbformat": 4,
 "nbformat_minor": 5
}
